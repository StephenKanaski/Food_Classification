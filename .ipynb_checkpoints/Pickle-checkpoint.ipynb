{
 "cells": [
  {
   "cell_type": "code",
   "execution_count": 20,
   "metadata": {},
   "outputs": [],
   "source": [
    "# Dependencies to Visualize the model\n",
    "%matplotlib inline\n",
    "from IPython.display import Image, SVG\n",
    "import matplotlib.pyplot as plt\n",
    "import numpy as np\n",
    "import math\n",
    "import pickle"
   ]
  },
  {
   "cell_type": "code",
   "execution_count": 21,
   "metadata": {},
   "outputs": [],
   "source": [
    "# Filepaths, numpy, and Tensorflow\n",
    "import os\n",
    "import tensorflow as tf"
   ]
  },
  {
   "cell_type": "code",
   "execution_count": 22,
   "metadata": {},
   "outputs": [],
   "source": [
    "# Sklearn scaling\n",
    "from sklearn.preprocessing import MinMaxScaler"
   ]
  },
  {
   "cell_type": "code",
   "execution_count": 23,
   "metadata": {},
   "outputs": [],
   "source": [
    "# Keras and Pillow\n",
    "from tensorflow import keras\n",
    "from tensorflow.keras.models import Sequential\n",
    "from tensorflow.keras.utils import to_categorical\n",
    "from tensorflow.keras.layers import Dense\n",
    "from tensorflow.keras.datasets import mnist\n",
    "from tensorflow.keras.preprocessing import image \n",
    "from tensorflow.keras.preprocessing import sequence\n",
    "from tensorflow.keras.preprocessing import text\n",
    "from PIL import Image, ImageStat"
   ]
  },
  {
   "cell_type": "code",
   "execution_count": 24,
   "metadata": {},
   "outputs": [
    {
     "name": "stdout",
     "output_type": "stream",
     "text": [
      "# of images in apple_pie is 952 end\n",
      "# of images in baby_back_ribs is 930 end\n",
      "# of images in baklava is 969 end\n",
      "# of images in beef_carpaccio is 940 end\n",
      "# of images in beef_tartare is 953 end\n",
      "# of images in beet_salad is 940 end\n",
      "# of images in beignets is 964 end\n",
      "# of images in bibimbap is 910 end\n",
      "# of images in bread_pudding is 943 end\n",
      "# of images in breakfast_burrito is 987 end\n",
      "# of images in bruschetta is 948 end\n",
      "# of images in caesar_salad is 955 end\n",
      "# of images in cannoli is 976 end\n",
      "# of images in caprese_salad is 954 end\n",
      "# of images in carrot_cake is 959 end\n",
      "# of images in ceviche is 948 end\n",
      "# of images in cheesecake is 961 end\n",
      "# of images in cheese_plate is 922 end\n",
      "# of images in chicken_curry is 956 end\n",
      "# of images in chicken_quesadilla is 970 end\n",
      "# of images in chicken_wings is 919 end\n",
      "# of images in chocolate_cake is 945 end\n",
      "# of images in chocolate_mousse is 943 end\n",
      "# of images in churros is 943 end\n",
      "# of images in clam_chowder is 967 end\n",
      "# of images in club_sandwich is 984 end\n",
      "# of images in crab_cakes is 971 end\n",
      "# of images in creme_brulee is 934 end\n",
      "# of images in croque_madame is 987 end\n",
      "# of images in cup_cakes is 955 end\n",
      "# of images in deviled_eggs is 934 end\n",
      "# of images in donuts is 945 end\n",
      "# of images in dumplings is 974 end\n",
      "# of images in edamame is 914 end\n",
      "# of images in eggs_benedict is 989 end\n",
      "# of images in escargots is 924 end\n",
      "# of images in falafel is 952 end\n",
      "# of images in filet_mignon is 912 end\n",
      "# of images in fish_and_chips is 949 end\n",
      "# of images in foie_gras is 943 end\n",
      "# of images in french_fries is 938 end\n",
      "# of images in french_onion_soup is 936 end\n",
      "# of images in french_toast is 985 end\n",
      "# of images in fried_calamari is 933 end\n",
      "# of images in fried_rice is 949 end\n",
      "# of images in frozen_yogurt is 978 end\n",
      "# of images in garlic_bread is 955 end\n",
      "# of images in gnocchi is 956 end\n",
      "# of images in greek_salad is 979 end\n",
      "# of images in grilled_cheese_sandwich is 956 end\n",
      "# of images in grilled_salmon is 957 end\n",
      "# of images in guacamole is 902 end\n",
      "# of images in gyoza is 951 end\n",
      "# of images in hamburger is 943 end\n",
      "# of images in hot_and_sour_soup is 976 end\n",
      "# of images in hot_dog is 973 end\n",
      "# of images in huevos_rancheros is 985 end\n",
      "# of images in hummus is 966 end\n",
      "# of images in ice_cream is 952 end\n",
      "# of images in lasagna is 963 end\n",
      "# of images in lobster_bisque is 952 end\n",
      "# of images in lobster_roll_sandwich is 961 end\n",
      "# of images in macaroni_and_cheese is 941 end\n",
      "# of images in macarons is 969 end\n",
      "# of images in miso_soup is 870 end\n",
      "# of images in mussels is 885 end\n",
      "# of images in nachos is 915 end\n",
      "# of images in omelette is 982 end\n",
      "# of images in onion_rings is 949 end\n",
      "# of images in oysters is 929 end\n",
      "# of images in pad_thai is 981 end\n",
      "# of images in paella is 907 end\n",
      "# of images in pancakes is 986 end\n",
      "# of images in panna_cotta is 953 end\n",
      "# of images in peking_duck is 966 end\n",
      "# of images in pho is 980 end\n",
      "# of images in pizza is 934 end\n",
      "# of images in pork_chop is 918 end\n",
      "# of images in poutine is 939 end\n",
      "# of images in prime_rib is 908 end\n",
      "# of images in pulled_pork_sandwich is 976 end\n",
      "# of images in ramen is 932 end\n",
      "# of images in ravioli is 946 end\n",
      "# of images in red_velvet_cake is 951 end\n",
      "# of images in risotto is 968 end\n",
      "# of images in samosa is 942 end\n",
      "# of images in sashimi is 944 end\n",
      "# of images in scallops is 936 end\n",
      "# of images in seaweed_salad is 934 end\n",
      "# of images in shrimp_and_grits is 960 end\n",
      "# of images in spaghetti_bolognese is 984 end\n",
      "# of images in spaghetti_carbonara is 985 end\n",
      "# of images in spring_rolls is 962 end\n",
      "# of images in steak is 916 end\n",
      "# of images in strawberry_shortcake is 953 end\n",
      "# of images in sushi is 931 end\n",
      "# of images in tacos is 967 end\n",
      "# of images in takoyaki is 933 end\n",
      "# of images in tiramisu is 950 end\n",
      "# of images in tuna_tartare is 946 end\n",
      "# of images in waffles is 976 end\n"
     ]
    },
    {
     "data": {
      "image/png": "[encoded data removed]",
      "text/plain": [
       "<Figure size 432x288 with 1 Axes>"
      ]
     },
     "metadata": {
      "needs_background": "light"
     },
     "output_type": "display_data"
    },
    {
     "name": "stdout",
     "output_type": "stream",
     "text": [
      "[[[130 143 149]\n",
      "  [131 144 152]\n",
      "  [131 146 155]\n",
      "  ...\n",
      "  [131 119 102]\n",
      "  [131 118 107]\n",
      "  [ 99  69  49]]\n",
      "\n",
      " [[138 151 157]\n",
      "  [139 152 160]\n",
      "  [141 154 160]\n",
      "  ...\n",
      "  [122  92  62]\n",
      "  [131 107  75]\n",
      "  [117  91  61]]\n",
      "\n",
      " [[152 166 176]\n",
      "  [153 167 179]\n",
      "  [154 169 181]\n",
      "  ...\n",
      "  [104  63  35]\n",
      "  [117  80  45]\n",
      "  [120  93  57]]\n",
      "\n",
      " ...\n",
      "\n",
      " [[156 204 243]\n",
      "  [152 201 242]\n",
      "  [152 197 237]\n",
      "  ...\n",
      "  [ 96  57  30]\n",
      "  [100  63  33]\n",
      "  [104  69  40]]\n",
      "\n",
      " [[157 206 245]\n",
      "  [153 202 243]\n",
      "  [150 198 239]\n",
      "  ...\n",
      "  [104  66  32]\n",
      "  [105  68  35]\n",
      "  [101  68  37]]\n",
      "\n",
      " [[155 204 243]\n",
      "  [152 201 242]\n",
      "  [148 198 239]\n",
      "  ...\n",
      "  [106  71  36]\n",
      "  [105  71  39]\n",
      "  [ 99  64  32]]]\n",
      "<PIL.Image.Image image mode=RGB size=64x64 at 0x1DF3FE01610>\n"
     ]
    }
   ],
   "source": [
    "# set the image size, determine the file path for image data\n",
    "IMG_SIZE = 64\n",
    "PATH = os.getcwd()\n",
    "img_folder_path = os.path.join(PATH, \"images\")\n",
    "\n",
    "CATEGORY = os.listdir(img_folder_path)\n",
    "\n",
    "training_data = []\n",
    "\n",
    "# function that determines the brightness/darkness of a gven image. This is used to purge dark images from training dataset\n",
    "def brightness( filepath ):\n",
    "     im = Image.open(filepath)\n",
    "     stat = ImageStat.Stat(im)\n",
    "     r,g,b = stat.mean\n",
    "     return math.sqrt(0.241*(r**2) + 0.691*(g**2) + 0.68*(b**2))\n",
    "\n",
    "\n",
    "for category in CATEGORY:\n",
    "\n",
    "    image_path = os.path.join(img_folder_path, category)\n",
    "    img_data = os.listdir(image_path) \n",
    "    class_num=CATEGORY.index(category)\n",
    "    count=0\n",
    "    # if data are in form of images \n",
    "    for sample in img_data: \n",
    "        img_path = image_path + '/' + sample \n",
    "        bright = brightness(img_path)\n",
    "        count+=1\n",
    "        \n",
    "        if bright < 80.0:\n",
    "        \n",
    "            os.remove(img_path)\n",
    "        else:\n",
    "            \n",
    "        \n",
    "            img_load = Image.open(img_path) \n",
    "\n",
    "            # preprocessing if required \n",
    "    \n",
    "            img = img_load\n",
    "\n",
    "           \n",
    "            newsize = (IMG_SIZE, IMG_SIZE)\n",
    "            img_shape = img.resize(newsize)\n",
    "    \n",
    "            img_array = np.array(img_shape)\n",
    "            training_data.append([img_array,class_num])\n",
    "\n",
    "\n",
    "plt.imshow(img_array, cmap = 'gray')\n",
    "plt.show()\n",
    "print(img_array)\n",
    "print(img_shape)"
   ]
  },
  {
   "cell_type": "code",
   "execution_count": 25,
   "metadata": {},
   "outputs": [
    {
     "name": "stdout",
     "output_type": "stream",
     "text": [
      "(95971, 2)\n"
     ]
    }
   ],
   "source": [
    "print((np.array(training_data)).shape)\n"
   ]
  },
  {
   "cell_type": "code",
   "execution_count": 26,
   "metadata": {},
   "outputs": [
    {
     "name": "stdout",
     "output_type": "stream",
     "text": [
      "(64, 64, 3)\n"
     ]
    }
   ],
   "source": [
    "print(img_array.shape)\n"
   ]
  },
  {
   "cell_type": "markdown",
   "metadata": {},
   "source": [
    "Define some parameters for the loader:"
   ]
  },
  {
   "cell_type": "code",
   "execution_count": 27,
   "metadata": {},
   "outputs": [
    {
     "data": {
      "image/png": "[encoded data removed]",
      "text/plain": [
       "<Figure size 432x288 with 1 Axes>"
      ]
     },
     "metadata": {
      "needs_background": "light"
     },
     "output_type": "display_data"
    }
   ],
   "source": [
    "# show a sample image\n",
    "plt.imshow(img_array, cmap = 'gray')\n",
    "plt.show()"
   ]
  },
  {
   "cell_type": "code",
   "execution_count": 29,
   "metadata": {},
   "outputs": [
    {
     "name": "stdout",
     "output_type": "stream",
     "text": [
      "(95971, 64, 64, 3)\n"
     ]
    }
   ],
   "source": [
    "# define and extract the arrays for features and labels\n",
    "X = []\n",
    "y = []\n",
    "for features, label in training_data:\n",
    "    X.append(features)\n",
    "    y.append(label)\n",
    "\n",
    "#1 is for the grey scale, if change to 3 will be for color images\n",
    "X = np.array(X).reshape(-3,IMG_SIZE,IMG_SIZE,3)\n",
    "print(X.shape)"
   ]
  },
  {
   "cell_type": "code",
   "execution_count": 31,
   "metadata": {},
   "outputs": [],
   "source": [
    "#save your transformed data\n",
    "pickle_out = open(\"X.pickle\",\"wb\")\n",
    "pickle.dump(X,pickle_out)\n",
    "pickle_out.close()"
   ]
  },
  {
   "cell_type": "code",
   "execution_count": 32,
   "metadata": {},
   "outputs": [],
   "source": [
    "# save the labels\n",
    "pickle_out = open(\"y.pickle\",\"wb\")\n",
    "pickle.dump(y,pickle_out)\n",
    "pickle_out.close()"
   ]
  }
 ],
 "metadata": {
  "kernelspec": {
   "display_name": "Python 3",
   "language": "python",
   "name": "python3"
  },
  "language_info": {
   "codemirror_mode": {
    "name": "ipython",
    "version": 3
   },
   "file_extension": ".py",
   "mimetype": "text/x-python",
   "name": "python",
   "nbconvert_exporter": "python",
   "pygments_lexer": "ipython3",
   "version": "3.8.5"
  }
 },
 "nbformat": 4,
 "nbformat_minor": 4
}
